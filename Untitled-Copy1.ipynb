{
 "cells": [
  {
   "cell_type": "code",
   "execution_count": 1,
   "metadata": {},
   "outputs": [],
   "source": [
    "import numpy as np \n",
    "import pandas as pd \n",
    "import os \n",
    "from sklearn import model_selection\n",
    "import operator\n",
    "import re,string\n",
    "from sklearn.model_selection import train_test_split"
   ]
  },
  {
   "cell_type": "code",
   "execution_count": 2,
   "metadata": {},
   "outputs": [],
   "source": [
    "stop_word=[\"a\",\"about\",\"above\",\"after\",\"again\",\"against\",\"all\",\"am\",\"an\",\"and\",\"any\",\"are\",\"as\",\"at\",\"be\",\"because\",\"been\",\"before\",\"being\",\"below\",\"between\",\"both\",\"but\",\n",
    "\"by\",\"could\",\"did\",\"do\",\"does\",\"doing\",\"down\",\"during\",\"each\",\"few\",\"for\",\"from\",\"further\",\"had\",\"has\",\"have\",\"having\",\"he\",\"he'd\",\"he'll\",\"he's\",\"her\",\n",
    "\"here\",\"here's\",\"hers\",\"herself\",\"him\",\"himself\",\"his\",\"how\",\"how's\",\"i\",\"i'd\",\"i'll\",\"i'm\",\"i've\",\"if\",\"in\",\"into\",\"is\",\"it\",\"it's\",\"its\",\"itself\",\"let's\",\"me\",\n",
    "\"more\",\"most\",\"my\",\"myself\",\"nor\",\"of\",\"on\",\"once\",\"only\",\"or\",\"other\",\"ought\",\"our\",\"ours\",\"ourselves\",\"out\",\"over\",\"own\",\"same\",\"she\",\n",
    "\"she'd\",\"she'll\",\"she's\",\"should\",\"so\",\"some\",\"such\",\"than\",\"that\",\"that's\",\"the\",\"their\",\"theirs\",\"them\",\"themselves\",\"then\",\"there\",\"there's\",\n",
    "\"these\",\"they\",\"they'd\",\"they'll\",\"they're\",\"they've\",\"this\",\"those\",\"through\",\"to\",\"too\",\"under\",\"until\",\"up\",\"very\",\"was\",\"we\",\"we'd\",\n",
    "\"we'll\",\"we're\",\"we've\",\"were\",\"what\",\"what's\",\"when\",\"when's\",\"where\",\"where's\",\"which\",\"while\",\"who\",\"who's\",\"whom\",\"why\",\"why's\",\"with\",\n",
    "\"would\",\"you\",\"you'd\",\"you'll\",\"you're\",\"you've\",\"your\",\"yours\",\"yourself\",\"yourselves\"]"
   ]
  },
  {
   "cell_type": "code",
   "execution_count": 3,
   "metadata": {},
   "outputs": [],
   "source": [
    "X = []\n",
    "Y = []\n",
    "for category in os.listdir(r\"C:\\Users\\Owner\\Desktop\\python\\naive\\3.1. Solution\\Datasets/\"):\n",
    "    for document in os.listdir(r\"C:\\Users\\Owner\\Desktop\\python\\naive\\3.1. Solution\\Datasets/\" + category):\n",
    "        with open(r\"C:\\Users\\Owner\\Desktop\\python\\naive\\3.1. Solution\\Datasets/\" + category + '/' + document,\"r\") as f:\n",
    "            X.append((document,f.read()))\n",
    "            Y.append(category)\n",
    "#os.listdir - is used in order to give list of all the directories present "
   ]
  },
  {
   "cell_type": "code",
   "execution_count": 4,
   "metadata": {},
   "outputs": [
    {
     "name": "stdout",
     "output_type": "stream",
     "text": [
      "<class 'list'>\n",
      "<class 'tuple'>\n",
      "<class 'list'>\n"
     ]
    }
   ],
   "source": [
    "print(type(X))\n",
    "print(type(X[0]))\n",
    "print(type(Y))"
   ]
  },
  {
   "cell_type": "code",
   "execution_count": 5,
   "metadata": {},
   "outputs": [],
   "source": [
    "X_train, X_test, y_train, y_test = train_test_split(X, Y)"
   ]
  },
  {
   "cell_type": "code",
   "execution_count": 6,
   "metadata": {},
   "outputs": [
    {
     "name": "stdout",
     "output_type": "stream",
     "text": [
      "14997\n",
      "5000\n"
     ]
    }
   ],
   "source": [
    "print(len(X_train))\n",
    "print(len(X_test))\n"
   ]
  },
  {
   "cell_type": "code",
   "execution_count": 7,
   "metadata": {},
   "outputs": [],
   "source": [
    "dic = {}\n",
    "for i in range(len(X_train)):\n",
    "    word = X_train[i][1].lower() #X_train[i][0] stores the name of document in tuple \n",
    "    stripped = re.split(r'\\W+',word)\n",
    "#if word is numeric or stop_word or if lenght is less than 2 we will ignore it\n",
    "    for s in stripped: #ignoring words with length less than 2, those which are numeric or which are there in stop words list \n",
    "        if s not in stop_word and (len(s) > 2) and (s.isalpha()):#s.isalpha return true only when word do not have any nemerical value \n",
    "            \n",
    "            if s in dic:\n",
    "                dic[s] +=1\n",
    "            else:\n",
    "                dic[s] = 1"
   ]
  },
  {
   "cell_type": "code",
   "execution_count": 8,
   "metadata": {},
   "outputs": [],
   "source": [
    "sorted_dic = sorted(dic.items(), key=lambda x: x[1], reverse=True)\n"
   ]
  },
  {
   "cell_type": "code",
   "execution_count": 24,
   "metadata": {},
   "outputs": [
    {
     "data": {
      "image/png": "[encoded data removed]",
      "text/plain": [
       "<Figure size 432x288 with 1 Axes>"
      ]
     },
     "metadata": {
      "needs_background": "light"
     },
     "output_type": "display_data"
    }
   ],
   "source": [
    "import matplotlib.pyplot as plt\n",
    "P = []\n",
    "Q = []\n",
    "for i in range(len(sorted_dic)):\n",
    "    P.append(i)\n",
    "    Q.append(sorted_dic[i][1])\n",
    "\n",
    "plt.plot(P,Q) \n",
    "plt.xlabel('Index_of _word') \n",
    "plt.ylabel('Frequency') \n",
    "plt.axis([0,8000,1,5000])\n",
    "plt.grid()\n",
    "plt.show()"
   ]
  },
  {
   "cell_type": "code",
   "execution_count": 10,
   "metadata": {},
   "outputs": [],
   "source": [
    "features=sorted_dic"
   ]
  },
  {
   "cell_type": "code",
   "execution_count": 11,
   "metadata": {},
   "outputs": [],
   "source": [
    "fetures = [features[i][0] for i in range(2000)] #from the above plot it was clear words after 2000 index are having very low frequcy of occurence threfore we can remove them as they would not have any significcant impact on our prediction \n",
    "\n",
    "\n"
   ]
  },
  {
   "cell_type": "code",
   "execution_count": 12,
   "metadata": {},
   "outputs": [],
   "source": [
    "#converting x into datasets \n",
    "X_train_dataset = np.zeros([len(X_train),len(fetures)],int)\n",
    "\n",
    "for i in range(len(X_train)):\n",
    "    word = X_train[i][1].lower()\n",
    "    doc = re.split(r'\\W+',word)\n",
    "    for s in doc :\n",
    "        if s in fetures:\n",
    "            X_train_dataset[i][fetures.index(s)] += 1\n"
   ]
  },
  {
   "cell_type": "code",
   "execution_count": 13,
   "metadata": {},
   "outputs": [],
   "source": [
    "#X_train_dataset"
   ]
  },
  {
   "cell_type": "code",
   "execution_count": 14,
   "metadata": {},
   "outputs": [],
   "source": [
    "X_test_dataset = np.zeros([len(X_test),len(fetures)],int)\n",
    "\n",
    "for i in range(len(X_test)):\n",
    "    word = X_test[i][1].lower()\n",
    "    doc = re.split(r'\\W+',word)\n",
    "    for s in doc :\n",
    "        if s in fetures:\n",
    "            X_test_dataset[i][fetures.index(s)] += 1\n"
   ]
  },
  {
   "cell_type": "code",
   "execution_count": 15,
   "metadata": {},
   "outputs": [],
   "source": [
    "#X_test_dataset"
   ]
  },
  {
   "cell_type": "code",
   "execution_count": 16,
   "metadata": {},
   "outputs": [],
   "source": [
    "def fit(X_train_dataset,y_train):\n",
    "    dic = {}\n",
    "    total_word=0\n",
    "    y_train = np.array(y_train)\n",
    "    classes = set(y_train)\n",
    "    dic['total_doc'] = len(y_train)\n",
    "    for current_class in classes:\n",
    "        temp = 0\n",
    "        X_train_dataset_class = X_train_dataset[y_train == current_class]\n",
    "        dic[current_class] = {}\n",
    "        possible_words = fetures \n",
    "        temp2 =  X_train_dataset_class.shape[0]\n",
    "        for j in possible_words:\n",
    "            l =  (X_train_dataset_class[:,fetures.index(j)]).sum()\n",
    "            dic[current_class][j]  = l\n",
    "            temp += l\n",
    "        dic[current_class][\"word_in_class\"] = temp\n",
    "        dic[current_class][\"length\"] = temp2\n",
    "            \n",
    "    return dic\n",
    "            "
   ]
  },
  {
   "cell_type": "code",
   "execution_count": 17,
   "metadata": {},
   "outputs": [],
   "source": [
    "def probability(x_test,dic,classes):\n",
    "    prob=np.log(dic[classes][\"length\"])-np.log(dic[\"total_doc\"])\n",
    "    feature=list(dic[classes].keys())\n",
    "    #-2 is done becuase there will be \"length\" and \"word in class\" present in feature. \n",
    "    for j in range (len(feature)-2):\n",
    "        xj=x_test[j]\n",
    "        #If frequency is 0, we will not consider it\n",
    "        if xj==0:\n",
    "            current_prob=0\n",
    "        else:\n",
    "            #Extra addition part is Laplace correction\n",
    "            num=dic[classes][feature[j]]+1\n",
    "            den=dic[classes][\"word_in_class\"]+len(dic[classes].keys())-2\n",
    "            current_prob=np.log(num)-np.log(den)\n",
    "        prob+=current_prob\n",
    "    return prob\n",
    "    "
   ]
  },
  {
   "cell_type": "code",
   "execution_count": 18,
   "metadata": {},
   "outputs": [],
   "source": [
    "def singlepointprediction(x_test,dictionary):\n",
    "    first_run = True\n",
    "    classes = dictionary.keys()\n",
    "    for i in classes:\n",
    "        if i == \"total_doc\":\n",
    "            continue \n",
    "        prob = probability(x_test,dictionary,i)\n",
    "        if first_run or prob > best_prob:\n",
    "            best_prob = prob\n",
    "            best_class = i\n",
    "            first_run = False\n",
    "    return best_class "
   ]
  },
  {
   "cell_type": "code",
   "execution_count": 19,
   "metadata": {},
   "outputs": [],
   "source": [
    "def predict(x_test,dictionary):\n",
    "    y_pred = []\n",
    "    for x in x_test:\n",
    "        \n",
    "        pred = singlepointprediction(x,dictionary)\n",
    "        y_pred.append(pred)\n",
    "    return y_pred"
   ]
  },
  {
   "cell_type": "code",
   "execution_count": 20,
   "metadata": {},
   "outputs": [],
   "source": [
    "dictionary=fit(X_train_dataset,y_train)\n",
    "y_pred=predict(X_test_dataset,dictionary)\n"
   ]
  },
  {
   "cell_type": "code",
   "execution_count": 21,
   "metadata": {},
   "outputs": [],
   "source": [
    "def score(y_test,y_pred):\n",
    "        count = 0\n",
    "        for i in range(len(y_pred)):\n",
    "            if y_pred[i] == y_test[i]:\n",
    "                count+=1\n",
    "        return count/len(y_pred)"
   ]
  },
  {
   "cell_type": "code",
   "execution_count": 22,
   "metadata": {},
   "outputs": [
    {
     "name": "stdout",
     "output_type": "stream",
     "text": [
      "Score on testing_data: 0.8712\n"
     ]
    }
   ],
   "source": [
    "print(\"Score on testing_data:\",score(y_test,y_pred))"
   ]
  },
  {
   "cell_type": "code",
   "execution_count": 23,
   "metadata": {},
   "outputs": [
    {
     "name": "stdout",
     "output_type": "stream",
     "text": [
      "Score on training data: 0.8885110355404414\n",
      "Score on testing data: 0.8604\n"
     ]
    }
   ],
   "source": [
    "from sklearn.naive_bayes import MultinomialNB\n",
    "clf = MultinomialNB()\n",
    "clf.fit(X_train_dataset,y_train)\n",
    "y_pred=clf.predict(X_test_dataset)\n",
    "print(\"Score on training data:\",clf.score(X_train_dataset,y_train))\n",
    "print(\"Score on testing data:\",clf.score(X_test_dataset,y_test))"
   ]
  },
  {
   "cell_type": "markdown",
   "metadata": {},
   "source": [
    "Result = both self made and inbuilt algo are working well on the given datasets so any of them can be used \n",
    "self_made_algorithm_score_accuracy =  87.82%\n",
    "in_built_algorithm_accuracy = 86.62%"
   ]
  }
 ],
 "metadata": {
  "kernelspec": {
   "display_name": "Python 3",
   "language": "python",
   "name": "python3"
  },
  "language_info": {
   "codemirror_mode": {
    "name": "ipython",
    "version": 3
   },
   "file_extension": ".py",
   "mimetype": "text/x-python",
   "name": "python",
   "nbconvert_exporter": "python",
   "pygments_lexer": "ipython3",
   "version": "3.7.6"
  }
 },
 "nbformat": 4,
 "nbformat_minor": 4
}
